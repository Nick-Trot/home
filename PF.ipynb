{
 "cells": [
  {
   "cell_type": "code",
   "execution_count": 95,
   "metadata": {
    "scrolled": true
   },
   "outputs": [],
   "source": [
    "import scipy, numpy, collections\n",
    "from implementation import *\n",
    "\n",
    "class SimpleGraph:\n",
    "    def __init__(self):\n",
    "        self.edges = {}\n",
    "        \n",
    "    def neighbors(self, id):\n",
    "        return self.edges[id]\n",
    "    \n",
    "    def cost(self, toNode, fromNode):\n",
    "        for x in range(len(self.neighbors(toNode))):\n",
    "            if self.edges[toNode][x][0] == fromNode:\n",
    "                return self.edges[toNode][x][1] \n",
    "        return None\n",
    "\n",
    "class Queue:\n",
    "    def __init__(self):\n",
    "        self.elements = []\n",
    "        \n",
    "    def empty(self):\n",
    "        return len(self.elements) == 0\n",
    "\n",
    "    def put(self, x):\n",
    "        heapq.heappush(self.elements, [x])\n",
    "    \n",
    "    def get(self):\n",
    "        return heapq.heappop(self.elements)[0]\n",
    "        \n",
    "    def printElem(self):\n",
    "        print(list(self.elements))\n",
    "        \n",
    "def djikstra_search(graph, start, goal):\n",
    "    # Print findings\n",
    "    frontier = Queue()\n",
    "    frontier.put(start)\n",
    "    came_from = {}\n",
    "    came_from[start] = None\n",
    "    cost_so_far = {}\n",
    "    cost_so_far[start] = 0\n",
    "    \n",
    "    while not frontier.empty():\n",
    "        current = frontier.get()[0]\n",
    "        print(\"Visiting %r from %r with cost-so-far %r\" % (current, came_from[current[0]], cost_so_far))\n",
    "        if current == goal: break\n",
    "        for next in graph.neighbors(current):\n",
    "            new_cost = cost_so_far[current] + graph.cost(current, next[0])\n",
    "            if next[0] not in cost_so_far or new_cost < cost_so_far[next[0]]:\n",
    "                cost_so_far[next[0]] = new_cost\n",
    "                priority = new_cost\n",
    "                frontier.put(next)\n",
    "                came_from[next[0]] = current\n",
    "                \n",
    "    return came_from, cost_so_far \n",
    "    \n",
    "def reconstruct_path(came_from, start, goal):\n",
    "    current = goal\n",
    "    path = []\n",
    "    while current != start:\n",
    "        path.append(current)\n",
    "        current = came_from[current]\n",
    "    path.append(start)\n",
    "    path.reverse()\n",
    "    return path"
   ]
  },
  {
   "cell_type": "code",
   "execution_count": 97,
   "metadata": {},
   "outputs": [
    {
     "name": "stdout",
     "output_type": "stream",
     "text": [
      "Visiting 'a' from None with cost-so-far {'a': 0}\n",
      "Visiting 'b' from 'a' with cost-so-far {'a': 0, 'b': 10, 'd': 7}\n",
      "Visiting 'd' from 'a' with cost-so-far {'a': 0, 'b': 10, 'd': 7, 'e': 22, 'g': 16}\n",
      "Visiting 'c' from 'd' with cost-so-far {'a': 0, 'b': 10, 'd': 7, 'e': 22, 'g': 16, 'c': 37}\n",
      "Visiting 'e' from 'b' with cost-so-far {'a': 0, 'b': 10, 'd': 7, 'e': 22, 'g': 16, 'c': 37}\n",
      "Visiting 'c' from 'e' with cost-so-far {'a': 0, 'b': 10, 'd': 7, 'e': 22, 'g': 16, 'c': 26, 'f': 24}\n",
      "Visiting 'f' from 'e' with cost-so-far {'a': 0, 'b': 10, 'd': 7, 'e': 22, 'g': 16, 'c': 26, 'f': 24}\n",
      "['a', 'b', 'e', 'c']\n"
     ]
    }
   ],
   "source": [
    "testGraph = SimpleGraph()    \n",
    "\n",
    "testGraph.edges = { \"a\": [[\"b\", 10], [\"d\", 7]],\n",
    "                    \"b\": [[\"a\", 10], [\"e\", 12], [\"g\", 6]],\n",
    "                    \"c\": [[\"d\", 30], [\"e\", 4]],\n",
    "                    \"d\": [[\"a\", 7], [\"c\", 30]],\n",
    "                    \"e\": [[\"b\", 12], [\"c\", 4], [\"f\", 2]],\n",
    "                    \"f\": [[\"e\", 2], [\"g\", 2]],\n",
    "                    \"g\": [[\"b\", 6], [\"f\", 2]]}\n",
    "\n",
    "\n",
    "\n",
    "came_from, cost_so_far = djikstra_search(testGraph, \"a\", \"f\")\n",
    "path = reconstruct_path(came_from, 'a', 'c')\n",
    "print(path)"
   ]
  }
 ],
 "metadata": {
  "kernelspec": {
   "display_name": "Python 3",
   "language": "python",
   "name": "python3"
  },
  "language_info": {
   "codemirror_mode": {
    "name": "ipython",
    "version": 3
   },
   "file_extension": ".py",
   "mimetype": "text/x-python",
   "name": "python",
   "nbconvert_exporter": "python",
   "pygments_lexer": "ipython3",
   "version": "3.8.1"
  }
 },
 "nbformat": 4,
 "nbformat_minor": 4
}
